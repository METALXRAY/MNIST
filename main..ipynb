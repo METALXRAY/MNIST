{
 "cells": [
  {
   "cell_type": "markdown",
   "metadata": {},
   "source": [
    "### MNIST ACTION PLAN\n",
    "1. Prepare Data and preprocess it.\n",
    "   \n",
    "2. Create Training, Validation and test datasets\n",
    "   \n",
    "3. Outline the model and choose the activation functions\n",
    "   \n",
    "4. Set the appropriate advanced optimizers and the loss functions\n",
    "   \n",
    "5. Make it learn\n",
    "\n",
    "6. Test the accuracy of the model"
   ]
  },
  {
   "cell_type": "markdown",
   "metadata": {},
   "source": [
    "Import the relevant packages"
   ]
  },
  {
   "cell_type": "code",
   "execution_count": 1,
   "metadata": {},
   "outputs": [
    {
     "name": "stderr",
     "output_type": "stream",
     "text": [
      "c:\\Python310\\lib\\site-packages\\tqdm\\auto.py:22: TqdmWarning: IProgress not found. Please update jupyter and ipywidgets. See https://ipywidgets.readthedocs.io/en/stable/user_install.html\n",
      "  from .autonotebook import tqdm as notebook_tqdm\n"
     ]
    }
   ],
   "source": [
    "import numpy as np\n",
    "import tensorflow as tf\n",
    "import tensorflow_datasets as tfds"
   ]
  },
  {
   "cell_type": "markdown",
   "metadata": {},
   "source": [
    "Data"
   ]
  },
  {
   "cell_type": "code",
   "execution_count": 2,
   "metadata": {},
   "outputs": [],
   "source": [
    "mnist_dataset, mnist_info =tfds.load(name='mnist', with_info=True, as_supervised=True)"
   ]
  },
  {
   "cell_type": "code",
   "execution_count": 3,
   "metadata": {},
   "outputs": [],
   "source": [
    "mnist_train, mnist_test= mnist_dataset['train'],mnist_dataset['test']\n",
    "num_validation_samples= 0.1*mnist_info.splits['train'].num_examples\n",
    "num_validation_samples=tf.cast(num_validation_samples,tf.int64)\n",
    "num_test_samples=mnist_info.splits['test'].num_examples\n",
    "num_test_samples=tf.cast(num_test_samples,tf.int64)\n",
    "def scale(image, label):\n",
    "    image=tf.cast(image,tf.float32)\n",
    "    image/=255.\n",
    "    return image,label\n",
    "scaled_train_and_validation_data=mnist_train.map(scale)\n",
    "test_data=mnist_test.map(scale)\n",
    "BUFFER_SIZE=10000\n",
    "shuffled_train_and_validation_data=scaled_train_and_validation_data.shuffle(BUFFER_SIZE)\n",
    "validation_data=shuffled_train_and_validation_data.take(num_validation_samples)\n",
    "train_data=shuffled_train_and_validation_data.skip(num_validation_samples)\n",
    "BATCH_SIZE=100\n",
    "train_data=train_data.batch(BATCH_SIZE)\n",
    "validation_data=validation_data.batch(num_validation_samples)\n",
    "test_data = test_data.batch(num_test_samples)\n",
    "validation_inputs,validation_targets=next(iter(validation_data))"
   ]
  },
  {
   "cell_type": "markdown",
   "metadata": {},
   "source": [
    "Model"
   ]
  },
  {
   "cell_type": "markdown",
   "metadata": {},
   "source": [
    "Outline the model"
   ]
  },
  {
   "cell_type": "code",
   "execution_count": 4,
   "metadata": {},
   "outputs": [],
   "source": [
    "input_size=784\n",
    "output_size=10\n",
    "hidden_layer_size=100\n",
    "\n",
    "model=tf.keras.Sequential([tf.keras.layers.Flatten(input_shape=(28,28,1)),tf.keras.layers.Dense(hidden_layer_size,activation='relu'),tf.keras.layers.Dense(hidden_layer_size,activation='relu'),tf.keras.layers.Dense(output_size,activation='softmax')])"
   ]
  },
  {
   "cell_type": "markdown",
   "metadata": {},
   "source": [
    "Choose the optimizer and the loss function"
   ]
  },
  {
   "cell_type": "code",
   "execution_count": 5,
   "metadata": {},
   "outputs": [],
   "source": [
    "model.compile(optimizer='adam',loss='sparse_categorical_crossentropy',metrics=['accuracy'])"
   ]
  },
  {
   "cell_type": "markdown",
   "metadata": {},
   "source": [
    "Training "
   ]
  },
  {
   "cell_type": "code",
   "execution_count": 6,
   "metadata": {},
   "outputs": [
    {
     "name": "stdout",
     "output_type": "stream",
     "text": [
      "Epoch 1/20\n",
      "540/540 - 3s - loss: 0.3328 - accuracy: 0.9054 - val_loss: 0.1650 - val_accuracy: 0.9513 - 3s/epoch - 5ms/step\n",
      "Epoch 2/20\n",
      "540/540 - 2s - loss: 0.1366 - accuracy: 0.9596 - val_loss: 0.1182 - val_accuracy: 0.9635 - 2s/epoch - 4ms/step\n",
      "Epoch 3/20\n",
      "540/540 - 2s - loss: 0.0989 - accuracy: 0.9705 - val_loss: 0.0891 - val_accuracy: 0.9745 - 2s/epoch - 4ms/step\n",
      "Epoch 4/20\n",
      "540/540 - 2s - loss: 0.0735 - accuracy: 0.9778 - val_loss: 0.0778 - val_accuracy: 0.9773 - 2s/epoch - 4ms/step\n",
      "Epoch 5/20\n",
      "540/540 - 2s - loss: 0.0604 - accuracy: 0.9821 - val_loss: 0.0853 - val_accuracy: 0.9770 - 2s/epoch - 4ms/step\n",
      "Epoch 6/20\n",
      "540/540 - 2s - loss: 0.0506 - accuracy: 0.9845 - val_loss: 0.0595 - val_accuracy: 0.9815 - 2s/epoch - 4ms/step\n",
      "Epoch 7/20\n",
      "540/540 - 2s - loss: 0.0408 - accuracy: 0.9874 - val_loss: 0.0507 - val_accuracy: 0.9848 - 2s/epoch - 4ms/step\n",
      "Epoch 8/20\n",
      "540/540 - 2s - loss: 0.0352 - accuracy: 0.9891 - val_loss: 0.0484 - val_accuracy: 0.9852 - 2s/epoch - 4ms/step\n",
      "Epoch 9/20\n",
      "540/540 - 2s - loss: 0.0294 - accuracy: 0.9908 - val_loss: 0.0397 - val_accuracy: 0.9880 - 2s/epoch - 4ms/step\n",
      "Epoch 10/20\n",
      "540/540 - 2s - loss: 0.0237 - accuracy: 0.9927 - val_loss: 0.0356 - val_accuracy: 0.9885 - 2s/epoch - 4ms/step\n",
      "Epoch 11/20\n",
      "540/540 - 2s - loss: 0.0220 - accuracy: 0.9929 - val_loss: 0.0320 - val_accuracy: 0.9885 - 2s/epoch - 4ms/step\n",
      "Epoch 12/20\n",
      "540/540 - 2s - loss: 0.0200 - accuracy: 0.9935 - val_loss: 0.0305 - val_accuracy: 0.9922 - 2s/epoch - 4ms/step\n",
      "Epoch 13/20\n",
      "540/540 - 2s - loss: 0.0182 - accuracy: 0.9942 - val_loss: 0.0258 - val_accuracy: 0.9927 - 2s/epoch - 4ms/step\n",
      "Epoch 14/20\n",
      "540/540 - 2s - loss: 0.0147 - accuracy: 0.9951 - val_loss: 0.0224 - val_accuracy: 0.9918 - 2s/epoch - 4ms/step\n",
      "Epoch 15/20\n",
      "540/540 - 2s - loss: 0.0123 - accuracy: 0.9961 - val_loss: 0.0246 - val_accuracy: 0.9935 - 2s/epoch - 3ms/step\n",
      "Epoch 16/20\n",
      "540/540 - 2s - loss: 0.0127 - accuracy: 0.9958 - val_loss: 0.0165 - val_accuracy: 0.9950 - 2s/epoch - 4ms/step\n",
      "Epoch 17/20\n",
      "540/540 - 2s - loss: 0.0107 - accuracy: 0.9964 - val_loss: 0.0149 - val_accuracy: 0.9955 - 2s/epoch - 4ms/step\n",
      "Epoch 18/20\n",
      "540/540 - 2s - loss: 0.0112 - accuracy: 0.9963 - val_loss: 0.0191 - val_accuracy: 0.9952 - 2s/epoch - 3ms/step\n",
      "Epoch 19/20\n",
      "540/540 - 2s - loss: 0.0092 - accuracy: 0.9971 - val_loss: 0.0232 - val_accuracy: 0.9948 - 2s/epoch - 3ms/step\n",
      "Epoch 20/20\n",
      "540/540 - 2s - loss: 0.0110 - accuracy: 0.9963 - val_loss: 0.0188 - val_accuracy: 0.9943 - 2s/epoch - 4ms/step\n"
     ]
    },
    {
     "data": {
      "text/plain": [
       "<keras.callbacks.History at 0x20ec8620790>"
      ]
     },
     "execution_count": 6,
     "metadata": {},
     "output_type": "execute_result"
    }
   ],
   "source": [
    "NUM_EPOCHS = 20\n",
    "model.fit(train_data,epochs=NUM_EPOCHS,validation_data=(validation_inputs,validation_targets),verbose=2)"
   ]
  },
  {
   "cell_type": "markdown",
   "metadata": {},
   "source": [
    "Test the Model"
   ]
  },
  {
   "cell_type": "code",
   "execution_count": 7,
   "metadata": {},
   "outputs": [
    {
     "name": "stdout",
     "output_type": "stream",
     "text": [
      "1/1 [==============================] - 0s 185ms/step - loss: 0.0926 - accuracy: 0.9778\n",
      "Test Loss: 0.09, Test Accuracy: 97.78%\n"
     ]
    }
   ],
   "source": [
    "test_loss, test_accuracy = model.evaluate(test_data)\n",
    "print('Test Loss: {0:.2f}, Test Accuracy: {1:.2f}%'.format(test_loss,test_accuracy*100.))"
   ]
  }
 ],
 "metadata": {
  "kernelspec": {
   "display_name": "Python 3.10.4 64-bit",
   "language": "python",
   "name": "python3"
  },
  "language_info": {
   "codemirror_mode": {
    "name": "ipython",
    "version": 3
   },
   "file_extension": ".py",
   "mimetype": "text/x-python",
   "name": "python",
   "nbconvert_exporter": "python",
   "pygments_lexer": "ipython3",
   "version": "3.10.4"
  },
  "orig_nbformat": 4,
  "vscode": {
   "interpreter": {
    "hash": "369f2c481f4da34e4445cda3fffd2e751bd1c4d706f27375911949ba6bb62e1c"
   }
  }
 },
 "nbformat": 4,
 "nbformat_minor": 2
}
